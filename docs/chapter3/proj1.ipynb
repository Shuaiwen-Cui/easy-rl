{
 "cells": [
  {
   "cell_type": "code",
   "execution_count": 3,
   "metadata": {},
   "outputs": [],
   "source": [
    "import gym "
   ]
  },
  {
   "cell_type": "code",
   "execution_count": 4,
   "metadata": {},
   "outputs": [
    {
     "name": "stderr",
     "output_type": "stream",
     "text": [
      "C:\\Users\\cswof\\AppData\\Roaming\\Python\\Python311\\site-packages\\gym\\core.py:317: DeprecationWarning: \u001b[33mWARN: Initializing wrapper in old step API which returns one bool instead of two. It is recommended to set `new_step_api=True` to use new step API. This will be the default behaviour in future.\u001b[0m\n",
      "  deprecation(\n",
      "C:\\Users\\cswof\\AppData\\Roaming\\Python\\Python311\\site-packages\\gym\\wrappers\\step_api_compatibility.py:39: DeprecationWarning: \u001b[33mWARN: Initializing environment in old step API which returns one bool instead of two. It is recommended to set `new_step_api=True` to use new step API. This will be the default behaviour in future.\u001b[0m\n",
      "  deprecation(\n"
     ]
    },
    {
     "ename": "NameError",
     "evalue": "name 'CliffWalkingWapper' is not defined",
     "output_type": "error",
     "traceback": [
      "\u001b[1;31m---------------------------------------------------------------------------\u001b[0m",
      "\u001b[1;31mNameError\u001b[0m                                 Traceback (most recent call last)",
      "Cell \u001b[1;32mIn[4], line 3\u001b[0m\n\u001b[0;32m      1\u001b[0m \u001b[38;5;66;03m# '''初始化环境'''  \u001b[39;00m\n\u001b[0;32m      2\u001b[0m env \u001b[38;5;241m=\u001b[39m gym\u001b[38;5;241m.\u001b[39mmake(\u001b[38;5;124m\"\u001b[39m\u001b[38;5;124mCliffWalking-v0\u001b[39m\u001b[38;5;124m\"\u001b[39m)  \u001b[38;5;66;03m# 0 up, 1 right, 2 down, 3 left\u001b[39;00m\n\u001b[1;32m----> 3\u001b[0m env \u001b[38;5;241m=\u001b[39m \u001b[43mCliffWalkingWapper\u001b[49m(env)\n\u001b[0;32m      4\u001b[0m agent \u001b[38;5;241m=\u001b[39m QLearning(\n\u001b[0;32m      5\u001b[0m     state_dim\u001b[38;5;241m=\u001b[39menv\u001b[38;5;241m.\u001b[39mobservation_space\u001b[38;5;241m.\u001b[39mn,\n\u001b[0;32m      6\u001b[0m     action_dim\u001b[38;5;241m=\u001b[39menv\u001b[38;5;241m.\u001b[39maction_space\u001b[38;5;241m.\u001b[39mn,\n\u001b[0;32m      7\u001b[0m     learning_rate\u001b[38;5;241m=\u001b[39mcfg\u001b[38;5;241m.\u001b[39mpolicy_lr,\n\u001b[0;32m      8\u001b[0m     gamma\u001b[38;5;241m=\u001b[39mcfg\u001b[38;5;241m.\u001b[39mgamma)\n\u001b[0;32m      9\u001b[0m rewards \u001b[38;5;241m=\u001b[39m []  \n",
      "\u001b[1;31mNameError\u001b[0m: name 'CliffWalkingWapper' is not defined"
     ]
    }
   ],
   "source": [
    "# '''初始化环境'''  \n",
    "env = gym.make(\"CliffWalking-v0\")  # 0 up, 1 right, 2 down, 3 left\n",
    "env = CliffWalkingWapper(env)\n",
    "agent = QLearning(\n",
    "    state_dim=env.observation_space.n,\n",
    "    action_dim=env.action_space.n,\n",
    "    learning_rate=cfg.policy_lr,\n",
    "    gamma=cfg.gamma)\n",
    "rewards = []  \n",
    "ma_rewards = [] # moving average reward\n",
    "for i_ep in range(cfg.train_eps): # train_eps: 训练的最大episodes数\n",
    "    ep_reward = 0  # 记录每个episode的reward\n",
    "    state = env.reset()  # 重置环境, 重新开一局（即开始新的一个episode）\n",
    "    while True:\n",
    "        action = agent.choose_action(state)  # 根据算法选择一个动作\n",
    "        next_state, reward, done, _ = env.step(action)  # 与环境进行一次动作交互\n",
    "        agent.update(state, action, reward, next_state, done)  # Q-learning算法更新\n",
    "        state = next_state  # 存储上一个观察值\n",
    "        ep_reward += reward\n",
    "        if done:\n",
    "            break\n",
    "    rewards.append(ep_reward)\n",
    "    if ma_rewards:\n",
    "        ma_rewards.append(ma_rewards[-1]*0.9+ep_reward*0.1)\n",
    "    else:\n",
    "        ma_rewards.append(ep_reward)\n",
    "    print(\"Episode:{}/{}: reward:{:.1f}\".format(i_ep+1, cfg.train_eps,ep_reward))"
   ]
  }
 ],
 "metadata": {
  "kernelspec": {
   "display_name": "Python 3",
   "language": "python",
   "name": "python3"
  },
  "language_info": {
   "codemirror_mode": {
    "name": "ipython",
    "version": 3
   },
   "file_extension": ".py",
   "mimetype": "text/x-python",
   "name": "python",
   "nbconvert_exporter": "python",
   "pygments_lexer": "ipython3",
   "version": "3.11.5"
  }
 },
 "nbformat": 4,
 "nbformat_minor": 2
}
